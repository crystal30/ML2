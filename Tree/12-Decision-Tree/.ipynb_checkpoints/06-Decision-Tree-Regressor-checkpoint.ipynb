{
 "cells": [
  {
   "cell_type": "markdown",
   "metadata": {},
   "source": [
    "## 决策树解决回归问题"
   ]
  },
  {
   "cell_type": "code",
   "execution_count": 1,
   "metadata": {
    "collapsed": true
   },
   "outputs": [],
   "source": [
    "import numpy as np\n",
    "import matplotlib.pyplot as plt"
   ]
  },
  {
   "cell_type": "code",
   "execution_count": 2,
   "metadata": {
    "collapsed": true
   },
   "outputs": [],
   "source": [
    "from sklearn import datasets\n",
    "\n",
    "boston = datasets.load_boston()\n",
    "X = boston.data\n",
    "y = boston.target"
   ]
  },
  {
   "cell_type": "code",
   "execution_count": 3,
   "metadata": {
    "collapsed": true
   },
   "outputs": [],
   "source": [
    "from sklearn.model_selection import train_test_split\n",
    "\n",
    "X_train, X_test, y_train, y_test = train_test_split(X, y, random_state=666)"
   ]
  },
  {
   "cell_type": "markdown",
   "metadata": {},
   "source": [
    "### Decision Tree Regressor"
   ]
  },
  {
   "cell_type": "code",
   "execution_count": 4,
   "metadata": {},
   "outputs": [
    {
     "data": {
      "text/plain": [
       "DecisionTreeRegressor(criterion='mse', max_depth=None, max_features=None,\n",
       "           max_leaf_nodes=None, min_impurity_decrease=0.0,\n",
       "           min_impurity_split=None, min_samples_leaf=1,\n",
       "           min_samples_split=2, min_weight_fraction_leaf=0.0,\n",
       "           presort=False, random_state=None, splitter='best')"
      ]
     },
     "execution_count": 4,
     "metadata": {},
     "output_type": "execute_result"
    }
   ],
   "source": [
    "from sklearn.tree import DecisionTreeRegressor\n",
    "\n",
    "dt_reg = DecisionTreeRegressor()\n",
    "dt_reg.fit(X_train, y_train)"
   ]
  },
  {
   "cell_type": "code",
   "execution_count": 5,
   "metadata": {},
   "outputs": [
    {
     "data": {
      "text/plain": [
       "0.58605479243964098"
      ]
     },
     "execution_count": 5,
     "metadata": {},
     "output_type": "execute_result"
    }
   ],
   "source": [
    "dt_reg.score(X_test, y_test)"
   ]
  },
  {
   "cell_type": "code",
   "execution_count": 6,
   "metadata": {},
   "outputs": [
    {
     "data": {
      "text/plain": [
       "1.0"
      ]
     },
     "execution_count": 6,
     "metadata": {},
     "output_type": "execute_result"
    }
   ],
   "source": [
    "dt_reg.score(X_train, y_train)"
   ]
  },
  {
   "cell_type": "markdown",
   "metadata": {},
   "source": [
    "### 一个决策树回归的例子"
   ]
  },
  {
   "cell_type": "code",
   "execution_count": 2,
   "metadata": {},
   "outputs": [
    {
     "name": "stdout",
     "output_type": "stream",
     "text": [
      "[-0.34739731 -0.48074731 -0.45017101 -0.53796672 -0.48315246 -0.6150012\n",
      " -0.72799245 -0.73884443 -0.70315341 -0.77307665 -0.84881989 -0.77483719\n",
      " -0.90376247 -0.93484229 -0.9813124  -1.01168203 -0.95804604 -1.02092101\n",
      " -1.03764239 -1.01680472 -1.10503068 -1.07427327 -0.99910625 -0.99953686\n",
      " -1.01318183 -0.92770487 -1.02963034 -0.96278155 -0.93674195 -0.86239665\n",
      " -0.86095456 -0.85605241 -0.84718765 -0.85211175 -0.85471155 -0.82072024\n",
      " -0.87012635 -0.720445   -0.5933905  -0.56540211 -0.76131068 -0.64608599\n",
      " -0.61831506 -0.41035095 -0.38200674 -0.3384645  -0.25076984 -0.20966026\n",
      " -0.23353393 -0.1424211  -0.18077863 -0.14965958 -0.08494173 -0.00970012\n",
      "  0.01088613  0.26908467  0.17341202  0.17804555  0.29314192  0.39484025\n",
      "  0.38352044  0.44969488  0.38840273  0.45974216  0.48493574  0.58404525\n",
      "  0.56720655  0.72378592  0.78822046  0.75287879  0.88444944  0.89972857\n",
      "  0.92946741  0.9555739   1.06594836  0.92052399  0.9043834   0.98487368\n",
      "  1.03582982  0.94001883  0.98962891  1.03578829  1.05696935  0.87201679\n",
      "  0.95948163  0.86481048  0.79915735  0.91697622  0.83172741  0.59104301\n",
      "  0.70571814  0.65623095  0.50413055  0.37984743  0.28469199  0.32136637\n",
      "  0.26547907  0.33114572  0.15730248  0.28923031]\n",
      "[[-2.83370623]\n",
      " [-2.71100772]\n",
      " [-2.69547923]\n",
      " [-2.66372512]\n",
      " [-2.56976033]\n",
      " [-2.52204998]\n",
      " [-2.39170339]\n",
      " [-2.26648269]\n",
      " [-2.24182677]\n",
      " [-2.2166349 ]\n",
      " [-2.13826181]\n",
      " [-2.08750696]\n",
      " [-1.98532842]\n",
      " [-1.92518081]\n",
      " [-1.91535634]\n",
      " [-1.9012031 ]\n",
      " [-1.85393702]\n",
      " [-1.79299175]\n",
      " [-1.70785679]\n",
      " [-1.6838005 ]\n",
      " [-1.64721668]\n",
      " [-1.62604383]\n",
      " [-1.55177788]\n",
      " [-1.48177031]\n",
      " [-1.44844978]\n",
      " [-1.40398052]\n",
      " [-1.39139914]\n",
      " [-1.33005909]\n",
      " [-1.20247731]\n",
      " [-1.12049585]\n",
      " [-1.08512041]\n",
      " [-1.08078861]\n",
      " [-1.06961723]\n",
      " [-1.04851191]\n",
      " [-1.04120977]\n",
      " [-1.03863718]\n",
      " [-1.00967543]\n",
      " [-0.76597848]\n",
      " [-0.72328821]\n",
      " [-0.71001811]\n",
      " [-0.70778471]\n",
      " [-0.68572464]\n",
      " [-0.63850425]\n",
      " [-0.44415831]\n",
      " [-0.38563377]\n",
      " [-0.31406562]\n",
      " [-0.30109361]\n",
      " [-0.26304769]\n",
      " [-0.23779306]\n",
      " [-0.18256773]\n",
      " [-0.15469951]\n",
      " [-0.13406297]\n",
      " [-0.0985219 ]\n",
      " [-0.05282678]\n",
      " [ 0.06833708]\n",
      " [ 0.17725335]\n",
      " [ 0.20358763]\n",
      " [ 0.20545181]\n",
      " [ 0.3184839 ]\n",
      " [ 0.36809269]\n",
      " [ 0.41560486]\n",
      " [ 0.42930999]\n",
      " [ 0.44622693]\n",
      " [ 0.46754355]\n",
      " [ 0.57326952]\n",
      " [ 0.63719573]\n",
      " [ 0.64258174]\n",
      " [ 0.84508792]\n",
      " [ 0.93469573]\n",
      " [ 1.01584466]\n",
      " [ 1.11506854]\n",
      " [ 1.17140746]\n",
      " [ 1.17639661]\n",
      " [ 1.25911512]\n",
      " [ 1.28409772]\n",
      " [ 1.34923507]\n",
      " [ 1.45612625]\n",
      " [ 1.49373734]\n",
      " [ 1.51476887]\n",
      " [ 1.60905806]\n",
      " [ 1.73490157]\n",
      " [ 1.77263775]\n",
      " [ 1.90056616]\n",
      " [ 1.94782934]\n",
      " [ 2.0197799 ]\n",
      " [ 2.12452131]\n",
      " [ 2.13587835]\n",
      " [ 2.18281286]\n",
      " [ 2.20844396]\n",
      " [ 2.39636639]\n",
      " [ 2.4003446 ]\n",
      " [ 2.4538624 ]\n",
      " [ 2.62914002]\n",
      " [ 2.76910284]\n",
      " [ 2.82420603]\n",
      " [ 2.85043813]\n",
      " [ 2.8565289 ]\n",
      " [ 2.89096879]\n",
      " [ 2.90361351]\n",
      " [ 2.92599153]]\n"
     ]
    },
    {
     "ename": "NameError",
     "evalue": "name 'DecisionTreeRegressor' is not defined",
     "output_type": "error",
     "traceback": [
      "\u001b[0;31m---------------------------------------------------------------------------\u001b[0m",
      "\u001b[0;31mNameError\u001b[0m                                 Traceback (most recent call last)",
      "\u001b[0;32m<ipython-input-2-1767451a8597>\u001b[0m in \u001b[0;36m<module>\u001b[0;34m()\u001b[0m\n\u001b[1;32m      9\u001b[0m \u001b[0mprint\u001b[0m\u001b[0;34m(\u001b[0m\u001b[0mx\u001b[0m\u001b[0;34m)\u001b[0m\u001b[0;34m\u001b[0m\u001b[0m\n\u001b[1;32m     10\u001b[0m \u001b[0;34m\u001b[0m\u001b[0m\n\u001b[0;32m---> 11\u001b[0;31m \u001b[0mdt\u001b[0m \u001b[0;34m=\u001b[0m \u001b[0mDecisionTreeRegressor\u001b[0m\u001b[0;34m(\u001b[0m\u001b[0mcriterion\u001b[0m\u001b[0;34m=\u001b[0m\u001b[0;34m'mse'\u001b[0m\u001b[0;34m,\u001b[0m \u001b[0mmax_depth\u001b[0m\u001b[0;34m=\u001b[0m\u001b[0;36m9\u001b[0m\u001b[0;34m)\u001b[0m\u001b[0;34m\u001b[0m\u001b[0m\n\u001b[0m\u001b[1;32m     12\u001b[0m \u001b[0mdt\u001b[0m\u001b[0;34m.\u001b[0m\u001b[0mfit\u001b[0m\u001b[0;34m(\u001b[0m\u001b[0mx\u001b[0m\u001b[0;34m,\u001b[0m \u001b[0my\u001b[0m\u001b[0;34m)\u001b[0m\u001b[0;34m\u001b[0m\u001b[0m\n\u001b[1;32m     13\u001b[0m \u001b[0mx_test\u001b[0m \u001b[0;34m=\u001b[0m \u001b[0mnp\u001b[0m\u001b[0;34m.\u001b[0m\u001b[0mlinspace\u001b[0m\u001b[0;34m(\u001b[0m\u001b[0;34m-\u001b[0m\u001b[0;36m3\u001b[0m\u001b[0;34m,\u001b[0m \u001b[0;36m3\u001b[0m\u001b[0;34m,\u001b[0m \u001b[0;36m50\u001b[0m\u001b[0;34m)\u001b[0m\u001b[0;34m.\u001b[0m\u001b[0mreshape\u001b[0m\u001b[0;34m(\u001b[0m\u001b[0;34m-\u001b[0m\u001b[0;36m1\u001b[0m\u001b[0;34m,\u001b[0m \u001b[0;36m1\u001b[0m\u001b[0;34m)\u001b[0m\u001b[0;34m\u001b[0m\u001b[0m\n",
      "\u001b[0;31mNameError\u001b[0m: name 'DecisionTreeRegressor' is not defined"
     ]
    }
   ],
   "source": [
    "import numpy as np\n",
    "\n",
    "N = 100\n",
    "x = np.random.rand(N) * 6 - 3     # [-3,3)\n",
    "x.sort()\n",
    "y = np.sin(x) + np.random.randn(N) * 0.05\n",
    "print(y)\n",
    "x = x.reshape(-1, 1)\n",
    "print(x)\n",
    "\n",
    "dt = DecisionTreeRegressor(criterion='mse', max_depth=9)\n",
    "dt.fit(x, y)\n",
    "x_test = np.linspace(-3, 3, 50).reshape(-1, 1)\n",
    "y_hat = dt.predict(x_test)\n",
    "\n",
    "mpl.rcParams['font.sans-serif'] = [u'SimHei']\n",
    "mpl.rcParams['axes.unicode_minus'] = False\n",
    "plt.figure(facecolor='w')\n",
    "plt.plot(x, y, 'r*', ms=10, label='real data')\n",
    "plt.plot(x_test, y_hat, 'g-', linewidth=2, label='prediction data')\n",
    "plt.legend(loc='upper left')\n",
    "plt.xlabel(u'X')\n",
    "plt.ylabel(u'Y')\n",
    "plt.grid(b=True)\n",
    "plt.title('DecisionTreeRegressor', fontsize=18)\n",
    "plt.tight_layout(2)\n",
    "plt.show()"
   ]
  },
  {
   "cell_type": "code",
   "execution_count": null,
   "metadata": {},
   "outputs": [],
   "source": []
  }
 ],
 "metadata": {
  "kernelspec": {
   "display_name": "Python 3",
   "language": "python",
   "name": "python3"
  },
  "language_info": {
   "codemirror_mode": {
    "name": "ipython",
    "version": 3
   },
   "file_extension": ".py",
   "mimetype": "text/x-python",
   "name": "python",
   "nbconvert_exporter": "python",
   "pygments_lexer": "ipython3",
   "version": "3.6.5"
  }
 },
 "nbformat": 4,
 "nbformat_minor": 2
}
