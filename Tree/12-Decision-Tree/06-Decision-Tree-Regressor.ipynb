{
 "cells": [
  {
   "cell_type": "markdown",
   "metadata": {},
   "source": [
    "## 决策树解决回归问题"
   ]
  },
  {
   "cell_type": "code",
   "execution_count": 1,
   "metadata": {},
   "outputs": [],
   "source": [
    "import numpy as np\n",
    "import matplotlib.pyplot as plt"
   ]
  },
  {
   "cell_type": "code",
   "execution_count": 2,
   "metadata": {},
   "outputs": [],
   "source": [
    "from sklearn import datasets\n",
    "\n",
    "boston = datasets.load_boston()\n",
    "X = boston.data\n",
    "y = boston.target"
   ]
  },
  {
   "cell_type": "code",
   "execution_count": 3,
   "metadata": {},
   "outputs": [],
   "source": [
    "from sklearn.model_selection import train_test_split\n",
    "\n",
    "X_train, X_test, y_train, y_test = train_test_split(X, y, random_state=666)"
   ]
  },
  {
   "cell_type": "markdown",
   "metadata": {},
   "source": [
    "### Decision Tree Regressor"
   ]
  },
  {
   "cell_type": "code",
   "execution_count": 4,
   "metadata": {},
   "outputs": [
    {
     "data": {
      "text/plain": [
       "DecisionTreeRegressor()"
      ]
     },
     "execution_count": 4,
     "metadata": {},
     "output_type": "execute_result"
    }
   ],
   "source": [
    "from sklearn.tree import DecisionTreeRegressor\n",
    "\n",
    "dt_reg = DecisionTreeRegressor()\n",
    "dt_reg.fit(X_train, y_train)"
   ]
  },
  {
   "cell_type": "code",
   "execution_count": 5,
   "metadata": {},
   "outputs": [
    {
     "data": {
      "text/plain": [
       "0.5933345348533772"
      ]
     },
     "execution_count": 5,
     "metadata": {},
     "output_type": "execute_result"
    }
   ],
   "source": [
    "dt_reg.score(X_test, y_test)"
   ]
  },
  {
   "cell_type": "code",
   "execution_count": 6,
   "metadata": {},
   "outputs": [
    {
     "data": {
      "text/plain": [
       "1.0"
      ]
     },
     "execution_count": 6,
     "metadata": {},
     "output_type": "execute_result"
    }
   ],
   "source": [
    "dt_reg.score(X_train, y_train)"
   ]
  },
  {
   "cell_type": "markdown",
   "metadata": {},
   "source": [
    "### 一个决策树回归的例子"
   ]
  },
  {
   "cell_type": "code",
   "execution_count": 7,
   "metadata": {},
   "outputs": [
    {
     "name": "stdout",
     "output_type": "stream",
     "text": [
      "[-1.11964304e-01 -3.27718910e-01 -3.70525375e-01 -3.15805346e-01\n",
      " -3.65982738e-01 -4.25866637e-01 -6.04994071e-01 -4.60026726e-01\n",
      " -6.50301300e-01 -6.85261198e-01 -7.23939322e-01 -8.43421773e-01\n",
      " -8.15241089e-01 -8.54363715e-01 -7.82078890e-01 -7.84089021e-01\n",
      " -8.76170678e-01 -9.06509268e-01 -9.27759590e-01 -9.33744712e-01\n",
      " -9.51207574e-01 -9.55904934e-01 -9.15200147e-01 -9.03745143e-01\n",
      " -1.07102709e+00 -9.65405113e-01 -8.40318738e-01 -8.56368749e-01\n",
      " -7.78241181e-01 -8.15494599e-01 -8.42919924e-01 -7.39968995e-01\n",
      " -8.27368949e-01 -6.54108118e-01 -6.44483971e-01 -6.12769952e-01\n",
      " -6.21779490e-01 -5.23592606e-01 -5.55322018e-01 -4.76904551e-01\n",
      " -4.41721726e-01 -3.37694686e-01 -3.37929406e-01 -3.24292715e-01\n",
      " -2.56691930e-01 -9.14916136e-02 -1.56539516e-01  2.47539088e-04\n",
      " -1.31005720e-01 -6.81299166e-02 -1.33872135e-02  7.84988056e-02\n",
      " -4.10552137e-02  1.52679967e-01  1.55387848e-01  2.25152909e-01\n",
      "  2.09269131e-01  2.18491298e-01  2.09634500e-01  2.67339399e-01\n",
      "  3.19682187e-01  2.41910718e-01  3.97156898e-01  3.58045543e-01\n",
      "  5.26812152e-01  7.20632348e-01  6.02081176e-01  7.01612464e-01\n",
      "  6.51138075e-01  5.71565000e-01  7.55658770e-01  6.70820295e-01\n",
      "  7.90160726e-01  6.43434274e-01  8.57270640e-01  8.59678576e-01\n",
      "  8.49628070e-01  9.49954986e-01  8.34255067e-01  9.51025814e-01\n",
      "  1.05317864e+00  1.03148507e+00  9.91930526e-01  1.06873846e+00\n",
      "  9.39057115e-01  1.02074974e+00  1.01864704e+00  9.76053787e-01\n",
      "  9.16974888e-01  9.36908287e-01  9.85218178e-01  9.59876477e-01\n",
      "  7.06683532e-01  4.38430200e-01  3.20063255e-01  2.71144366e-01\n",
      "  2.50638407e-01  2.58527204e-01  2.36026263e-01  1.28111155e-01]\n",
      "[[-2.90884123]\n",
      " [-2.80869753]\n",
      " [-2.80246175]\n",
      " [-2.78731812]\n",
      " [-2.77944271]\n",
      " [-2.68700225]\n",
      " [-2.58226352]\n",
      " [-2.56536672]\n",
      " [-2.47170018]\n",
      " [-2.35057267]\n",
      " [-2.33801347]\n",
      " [-2.19782802]\n",
      " [-2.16914296]\n",
      " [-2.1650348 ]\n",
      " [-2.16206359]\n",
      " [-2.11776023]\n",
      " [-2.06587395]\n",
      " [-2.03102679]\n",
      " [-2.01982373]\n",
      " [-1.97190274]\n",
      " [-1.71790903]\n",
      " [-1.54046926]\n",
      " [-1.45796193]\n",
      " [-1.4236459 ]\n",
      " [-1.40060199]\n",
      " [-1.20112405]\n",
      " [-1.13775928]\n",
      " [-1.05844796]\n",
      " [-0.97423144]\n",
      " [-0.97293638]\n",
      " [-0.86061428]\n",
      " [-0.8578327 ]\n",
      " [-0.85091233]\n",
      " [-0.73422253]\n",
      " [-0.71637774]\n",
      " [-0.70839655]\n",
      " [-0.59933438]\n",
      " [-0.5969855 ]\n",
      " [-0.55717346]\n",
      " [-0.424569  ]\n",
      " [-0.39520592]\n",
      " [-0.33093665]\n",
      " [-0.3128701 ]\n",
      " [-0.28080426]\n",
      " [-0.27259154]\n",
      " [-0.17004565]\n",
      " [-0.14033005]\n",
      " [-0.10035165]\n",
      " [-0.09144333]\n",
      " [ 0.04381304]\n",
      " [ 0.05946517]\n",
      " [ 0.08575852]\n",
      " [ 0.09465926]\n",
      " [ 0.14464581]\n",
      " [ 0.14914129]\n",
      " [ 0.19232184]\n",
      " [ 0.19377096]\n",
      " [ 0.24569639]\n",
      " [ 0.26029116]\n",
      " [ 0.2619936 ]\n",
      " [ 0.30781471]\n",
      " [ 0.34843906]\n",
      " [ 0.40147984]\n",
      " [ 0.44224447]\n",
      " [ 0.58643873]\n",
      " [ 0.63528479]\n",
      " [ 0.6437682 ]\n",
      " [ 0.65329966]\n",
      " [ 0.6700533 ]\n",
      " [ 0.69614314]\n",
      " [ 0.73572038]\n",
      " [ 0.73858781]\n",
      " [ 0.83603022]\n",
      " [ 0.83757251]\n",
      " [ 1.00235597]\n",
      " [ 1.08559181]\n",
      " [ 1.23055781]\n",
      " [ 1.2418897 ]\n",
      " [ 1.26449826]\n",
      " [ 1.29756399]\n",
      " [ 1.38962992]\n",
      " [ 1.44002867]\n",
      " [ 1.48027074]\n",
      " [ 1.53990839]\n",
      " [ 1.54637827]\n",
      " [ 1.63372718]\n",
      " [ 1.67900268]\n",
      " [ 1.69002709]\n",
      " [ 1.73751365]\n",
      " [ 1.88777717]\n",
      " [ 1.91893258]\n",
      " [ 2.04074319]\n",
      " [ 2.37149325]\n",
      " [ 2.6117172 ]\n",
      " [ 2.74598219]\n",
      " [ 2.81888542]\n",
      " [ 2.91107733]\n",
      " [ 2.93497638]\n",
      " [ 2.96269627]\n",
      " [ 2.98924823]]\n"
     ]
    },
    {
     "name": "stderr",
     "output_type": "stream",
     "text": [
      "/Users/zhao/anaconda3/envs/tensorflow/lib/python3.6/site-packages/ipykernel_launcher.py:22: MatplotlibDeprecationWarning: Passing the pad parameter of tight_layout() positionally is deprecated since Matplotlib 3.3; the parameter will become keyword-only two minor releases later.\n"
     ]
    },
    {
     "data": {
      "image/png": "[encoded data removed]",
      "text/plain": [
       "<Figure size 432x288 with 1 Axes>"
      ]
     },
     "metadata": {},
     "output_type": "display_data"
    }
   ],
   "source": [
    "N = 100\n",
    "x = np.random.rand(N) * 6 - 3     # [-3,3)\n",
    "x.sort()\n",
    "y = np.sin(x) + np.random.randn(N) * 0.05\n",
    "print(y)\n",
    "x = x.reshape(-1, 1)\n",
    "print(x)\n",
    "\n",
    "dt = DecisionTreeRegressor(criterion='mse', max_depth=9)\n",
    "dt.fit(x, y)\n",
    "x_test = np.linspace(-3, 3, 50).reshape(-1, 1)\n",
    "y_hat = dt.predict(x_test)\n",
    "\n",
    "plt.figure(facecolor='w')\n",
    "plt.plot(x, y, 'r*', ms=10, label='real data')\n",
    "plt.plot(x_test, y_hat, 'g-', linewidth=2, label='prediction data')\n",
    "plt.legend(loc='upper left')\n",
    "plt.xlabel(u'X')\n",
    "plt.ylabel(u'Y')\n",
    "plt.grid(b=True)\n",
    "plt.title('DecisionTreeRegressor', fontsize=18)\n",
    "plt.tight_layout(2)\n",
    "plt.show()"
   ]
  },
  {
   "cell_type": "markdown",
   "metadata": {},
   "source": [
    "### 比较决策树的深度影响"
   ]
  },
  {
   "cell_type": "code",
   "execution_count": 8,
   "metadata": {},
   "outputs": [
    {
     "name": "stderr",
     "output_type": "stream",
     "text": [
      "/Users/zhao/anaconda3/envs/tensorflow/lib/python3.6/site-packages/ipykernel_launcher.py:18: MatplotlibDeprecationWarning: Passing the pad parameter of tight_layout() positionally is deprecated since Matplotlib 3.3; the parameter will become keyword-only two minor releases later.\n"
     ]
    },
    {
     "data": {
      "image/png": "[encoded data removed]",
      "text/plain": [
       "<Figure size 432x288 with 1 Axes>"
      ]
     },
     "metadata": {},
     "output_type": "display_data"
    }
   ],
   "source": [
    "# 比较决策树的深度影响\n",
    "depth = [2, 4, 6, 8, 10]\n",
    "clr = 'rgbmy'\n",
    "dtr = DecisionTreeRegressor(criterion='mse')\n",
    "plt.figure(facecolor='w')\n",
    "plt.plot(x, y, 'ko', ms=6, label='Actual')\n",
    "x_test = np.linspace(-3, 3, 50).reshape(-1, 1)\n",
    "for d, c in zip(depth, clr):\n",
    "    dtr.set_params(max_depth=d)\n",
    "    dtr.fit(x, y)\n",
    "    y_hat = dtr.predict(x_test)\n",
    "    plt.plot(x_test, y_hat, '-', color=c, linewidth=2, label='Depth=%d' % d)\n",
    "plt.legend(loc='upper left')\n",
    "plt.xlabel(u'X')\n",
    "plt.ylabel(u'Y')\n",
    "plt.grid(b=True)\n",
    "plt.title('DecisionTreeRegressor', fontsize=18)\n",
    "plt.tight_layout(2)\n",
    "plt.show()"
   ]
  }
 ],
 "metadata": {
  "kernelspec": {
   "display_name": "Python (tensorflow)",
   "language": "python",
   "name": "tensorflow"
  },
  "language_info": {
   "codemirror_mode": {
    "name": "ipython",
    "version": 3
   },
   "file_extension": ".py",
   "mimetype": "text/x-python",
   "name": "python",
   "nbconvert_exporter": "python",
   "pygments_lexer": "ipython3",
   "version": "3.6.5"
  }
 },
 "nbformat": 4,
 "nbformat_minor": 2
}
