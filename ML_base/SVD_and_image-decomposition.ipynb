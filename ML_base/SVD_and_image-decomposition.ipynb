{
 "cells": [
  {
   "cell_type": "code",
   "execution_count": null,
   "metadata": {},
   "outputs": [],
   "source": [
    "# SVD分解\n",
    "import os\n",
    "from PIL import Image\n",
    "import numpy as np\n",
    "import matplotlib.pyplot as plt\n",
    "\n",
    "\n",
    "def restore(sigma, u, v, K):\n",
    "    m = u.shape[0]\n",
    "    n = v.shape[0]\n",
    "    svd_result = np.zeros((m, n))\n",
    "    for k in range(K + 1):\n",
    "        for i in range(m):\n",
    "            svd_result[i] += sigma[k] * u[i][k] * v[k]\n",
    "\n",
    "    svd_result[svd_result < 0] = 0\n",
    "    svd_result[svd_result > 255] = 255\n",
    "    return np.rint(svd_result).astype('uint8')\n",
    "\n",
    "\n",
    "\n",
    "palace = Image.open(\"palace.jpeg\", \"r\")\n",
    "print(palace)\n",
    "\n",
    "output_path = r'./SVD'\n",
    "if not os.path.exists(output_path):\n",
    "    os.mkdir(output_path)\n",
    "\n",
    "palace_array = np.array(palace)\n",
    "\n",
    "K = 50\n",
    "u_r, sigma_r, v_r = np.linalg.svd(palace_array[:, :, 0])\n",
    "u_g, sigma_g, v_g = np.linalg.svd(palace_array[:, :, 1])\n",
    "u_b, sigma_b, v_b = np.linalg.svd(palace_array[:, :, 2])\n",
    "plt.figure(figsize=(10, 10))\n",
    "\n",
    "for k in range(1, K + 1):\n",
    "    R = restore(sigma_r, u_r, v_r, k)\n",
    "    G = restore(sigma_g, u_g, v_g, k)\n",
    "    B = restore(sigma_b, u_b, v_g, k)\n",
    "    I = np.stack((R, G, B), axis=2)\n",
    "    Image.fromarray(I).save('%s/svd_%d.png' % (output_path, k))\n",
    "    if k <= 12:\n",
    "        plt.subplot(3, 4, k)\n",
    "        plt.imshow(I)\n",
    "        plt.show()\n",
    "        plt.axis('off')\n",
    "        plt.title('svd num: %d' % k)\n",
    "\n",
    "plt.suptitle('SVD and image decomposition', fontsize=20)\n",
    "\n",
    "\n"
   ]
  }
 ],
 "metadata": {
  "kernelspec": {
   "display_name": "Python (tensorflow)",
   "language": "python",
   "name": "tensorflow"
  },
  "language_info": {
   "codemirror_mode": {
    "name": "ipython",
    "version": 3
   },
   "file_extension": ".py",
   "mimetype": "text/x-python",
   "name": "python",
   "nbconvert_exporter": "python",
   "pygments_lexer": "ipython3",
   "version": "3.6.5"
  }
 },
 "nbformat": 4,
 "nbformat_minor": 2
}
