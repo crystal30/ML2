{
 "cells": [
  {
   "cell_type": "code",
   "execution_count": null,
   "metadata": {},
   "outputs": [],
   "source": [
    "# 二维图像的绘制\n",
    "import numpy as np\n",
    "import matplotlib.pyplot as plt\n",
    "from matplotlib import cm\n",
    "\n",
    "d = np.random.randn(100000, 2)\n",
    "N = 30\n",
    "density, edges = np.histogramdd(d, bins=[N, N])\n",
    "print(\"样本总数：\", np.sum(density))\n",
    "density /= density.max()\n",
    "x = y = np.arange(N)\n",
    "t = np.meshgrid(x, y)\n",
    "fig = plt.figure()\n",
    "ax = fig.add_subplot(111, projection='3d')\n",
    "ax.scatter(t[0], t[1], density, c='r', s=15*density, marker='o', depthshade=True)\n",
    "ax.plot_surface(t[0], t[1], density, cmap=cm.Accent, rstride=2, cstride=2, alpha=0.9, lw=0.3)\n",
    "ax.set_xlabel(\"X\")\n",
    "ax.set_ylabel(\"Y\")\n",
    "ax.set_zlabel(\"Z\")\n",
    "plt.show()"
   ]
  },
  {
   "cell_type": "code",
   "execution_count": null,
   "metadata": {},
   "outputs": [],
   "source": [
    "# 二维正态分布的配置\n",
    "from scipy import stats\n",
    "\n",
    "x1, x2 = np.mgrid[-5:5:51j, -5:5:51j]\n",
    "x = np.stack((x1, x2), axis=2)\n",
    "\n",
    "plt.figure(figsize=(9, 8))\n",
    "sigma = (np.identity(2), np.diag((3,3)), np.diag((2,5)), np.array(((2,1), (2,5))))\n",
    "for i in np.arange(4):\n",
    "    ax = plt.subplot(2, 2, i+1, projection='3d')\n",
    "    norm = stats.multivariate_normal((0, 0), sigma[i])\n",
    "    y = norm.pdf(x)\n",
    "    ax.plot_surface(x1, x2, y, cmap=cm.Accent, rstride=2, cstride=2, alpha=0.9, lw=0.3)\n",
    "plt.show()"
   ]
  }
 ],
 "metadata": {
  "kernelspec": {
   "display_name": "Python (tensorflow)",
   "language": "python",
   "name": "tensorflow"
  },
  "language_info": {
   "codemirror_mode": {
    "name": "ipython",
    "version": 3
   },
   "file_extension": ".py",
   "mimetype": "text/x-python",
   "name": "python",
   "nbconvert_exporter": "python",
   "pygments_lexer": "ipython3",
   "version": "3.6.5"
  }
 },
 "nbformat": 4,
 "nbformat_minor": 2
}
