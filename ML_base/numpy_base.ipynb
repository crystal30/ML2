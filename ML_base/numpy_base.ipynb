{
 "cells": [
  {
   "cell_type": "code",
   "execution_count": 1,
   "metadata": {},
   "outputs": [],
   "source": [
    "import numpy as np"
   ]
  },
  {
   "cell_type": "code",
   "execution_count": 2,
   "metadata": {},
   "outputs": [
    {
     "name": "stdout",
     "output_type": "stream",
     "text": [
      "a =  [0 1 2 3 4 5 6 7 8 9]\n",
      "a =  [  0   1 200   3   4   5   6   7   8   9]\n",
      "b =  [200   3   4]\n"
     ]
    }
   ],
   "source": [
    "# 切片数组是原始数组的一个截图，与原始数组共享一个内存空间，可以直接修改元素值\n",
    "a = np.arange(10)\n",
    "print(\"a = \", a)\n",
    "\n",
    "b = a[2:5]\n",
    "b[0] = 200\n",
    "\n",
    "print(\"a = \", a)\n",
    "print(\"b = \", b)"
   ]
  },
  {
   "cell_type": "code",
   "execution_count": 4,
   "metadata": {},
   "outputs": [
    {
     "name": "stdout",
     "output_type": "stream",
     "text": [
      "a =  [  1.   2.   4.   8.  16.  32.  64. 128. 256. 512.]\n",
      "[0 2 4 6 8]\n",
      "b =  [  1.   4.  16.  64. 256.]\n",
      "a =  [  1.   2.   4.   8.  16.  32.  64. 128. 256. 512.]\n",
      "b =  [  1.    4.    1.6  64.  256. ]\n"
     ]
    }
   ],
   "source": [
    "# 使用整数序列作为下标获得的数组不和原始数组共享数组空间\n",
    "a = np.logspace(0, 9, 10, base=2)\n",
    "print(\"a = \", a)\n",
    "\n",
    "i = np.arange(0, 10, 2)\n",
    "print(i)\n",
    "\n",
    "b = a[i]\n",
    "print(\"b = \", b)\n",
    "b[2] = 1.6\n",
    "\n",
    "print(\"a = \", a)\n",
    "print(\"b = \", b)"
   ]
  },
  {
   "cell_type": "code",
   "execution_count": 11,
   "metadata": {},
   "outputs": [
    {
     "name": "stdout",
     "output_type": "stream",
     "text": [
      "----------list try slice-----------\n",
      "a =  [0, 1, 2, 3, 4, 5, 6, 7, 8, 9]\n",
      "b =  [0, 1]\n",
      "a =  [0, 1, 2, 3, 4, 5, 6, 7, 8, 9]\n",
      "b =  [100, 1]\n"
     ]
    }
   ],
   "source": [
    "# 实验一下python中的列表？\n",
    "# 切片\n",
    "print(\"----------list try slice-----------\")\n",
    "a = [0,1,2,3,4,5,6,7,8,9]\n",
    "b = a[0:2]\n",
    "print(\"a = \", a)\n",
    "print(\"b = \", b)\n",
    "\n",
    "b[0] = 100\n",
    "print(\"a = \", a)\n",
    "print(\"b = \", b)\n",
    "\n",
    "# 注：python的list中不能用序列作为下标"
   ]
  },
  {
   "cell_type": "code",
   "execution_count": 12,
   "metadata": {},
   "outputs": [
    {
     "name": "stdout",
     "output_type": "stream",
     "text": [
      "[[ 0  1  2  3  4  5]\n",
      " [10 11 12 13 14 15]\n",
      " [20 21 22 23 24 25]\n",
      " [30 31 32 33 34 35]\n",
      " [40 41 42 43 44 45]\n",
      " [50 51 52 53 54 55]]\n"
     ]
    }
   ],
   "source": [
    "# 生成二维数序\n",
    "print(np.arange(0, 60, 10).reshape(-1, 1) + np.arange(6))"
   ]
  },
  {
   "cell_type": "code",
   "execution_count": 13,
   "metadata": {},
   "outputs": [],
   "source": [
    "# 二维数组的切片"
   ]
  },
  {
   "cell_type": "code",
   "execution_count": 23,
   "metadata": {
    "scrolled": true
   },
   "outputs": [
    {
     "name": "stdout",
     "output_type": "stream",
     "text": [
      "---------使用虚数，达到去重效果----------\n",
      "c =  [[1 2]\n",
      " [3 4]\n",
      " [5 6]\n",
      " [1 3]\n",
      " [3 4]\n",
      " [7 6]]\n",
      "转换成虚数 [1.+2.j 3.+4.j 5.+6.j 1.+3.j 3.+4.j 7.+6.j]\n",
      "使用np.unique, 虚数后去重 (array([1.+2.j, 1.+3.j, 3.+4.j, 5.+6.j, 7.+6.j]), array([0, 3, 1, 2, 5]))\n",
      "二维数组去重\n",
      " [[1 2]\n",
      " [1 3]\n",
      " [3 4]\n",
      " [5 6]\n",
      " [7 6]]\n",
      "----------使用tuple，set，再转换成np.array达到去重效果-----------\n",
      "[[1 2]\n",
      " [1 3]\n",
      " [5 6]\n",
      " [7 6]\n",
      " [3 4]]\n"
     ]
    }
   ],
   "source": [
    "# 二维数组去重，注意np.unique()的数序总是一维的\n",
    "print(\"---------使用虚数，达到去重效果----------\")\n",
    "c = np.array(((1, 2), (3, 4), (5, 6), (1, 3), (3, 4), (7, 6)))\n",
    "print(\"c = \", c)\n",
    "x = c[:, 0] + c[:, 1] * 1j\n",
    "print(\"转换成虚数\", x)\n",
    "print(\"使用np.unique, 虚数后去重\", np.unique(x, return_index=True))\n",
    "print(\"二维数组去重\\n\", c[np.unique(x, return_index=True)[1]])\n",
    "\n",
    "print(\"----------使用tuple，set，再转换成np.array达到去重效果-----------\")\n",
    "print(np.array(list(set(tuple(t) for t in c))))"
   ]
  },
  {
   "cell_type": "code",
   "execution_count": null,
   "metadata": {},
   "outputs": [],
   "source": [
    "# 二维数组的堆叠，stack，axis的选择\n",
    "# 二维数组的连接 concatenate"
   ]
  },
  {
   "cell_type": "code",
   "execution_count": null,
   "metadata": {},
   "outputs": [],
   "source": []
  },
  {
   "cell_type": "code",
   "execution_count": null,
   "metadata": {},
   "outputs": [],
   "source": []
  },
  {
   "cell_type": "code",
   "execution_count": null,
   "metadata": {},
   "outputs": [],
   "source": []
  },
  {
   "cell_type": "code",
   "execution_count": null,
   "metadata": {},
   "outputs": [],
   "source": []
  },
  {
   "cell_type": "code",
   "execution_count": null,
   "metadata": {},
   "outputs": [],
   "source": []
  },
  {
   "cell_type": "code",
   "execution_count": null,
   "metadata": {},
   "outputs": [],
   "source": []
  },
  {
   "cell_type": "code",
   "execution_count": null,
   "metadata": {},
   "outputs": [],
   "source": []
  },
  {
   "cell_type": "code",
   "execution_count": null,
   "metadata": {},
   "outputs": [],
   "source": []
  },
  {
   "cell_type": "code",
   "execution_count": null,
   "metadata": {},
   "outputs": [],
   "source": []
  },
  {
   "cell_type": "code",
   "execution_count": null,
   "metadata": {},
   "outputs": [],
   "source": []
  },
  {
   "cell_type": "code",
   "execution_count": null,
   "metadata": {},
   "outputs": [],
   "source": []
  },
  {
   "cell_type": "code",
   "execution_count": null,
   "metadata": {},
   "outputs": [],
   "source": []
  },
  {
   "cell_type": "code",
   "execution_count": null,
   "metadata": {},
   "outputs": [],
   "source": []
  },
  {
   "cell_type": "code",
   "execution_count": null,
   "metadata": {},
   "outputs": [],
   "source": []
  },
  {
   "cell_type": "code",
   "execution_count": null,
   "metadata": {},
   "outputs": [],
   "source": []
  },
  {
   "cell_type": "code",
   "execution_count": null,
   "metadata": {},
   "outputs": [],
   "source": []
  }
 ],
 "metadata": {
  "kernelspec": {
   "display_name": "Python (tensorflow)",
   "language": "python",
   "name": "tensorflow"
  },
  "language_info": {
   "codemirror_mode": {
    "name": "ipython",
    "version": 3
   },
   "file_extension": ".py",
   "mimetype": "text/x-python",
   "name": "python",
   "nbconvert_exporter": "python",
   "pygments_lexer": "ipython3",
   "version": "3.6.5"
  }
 },
 "nbformat": 4,
 "nbformat_minor": 2
}
