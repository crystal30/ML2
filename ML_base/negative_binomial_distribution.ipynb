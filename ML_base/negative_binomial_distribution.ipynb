{
 "cells": [
  {
   "cell_type": "code",
   "execution_count": 6,
   "metadata": {},
   "outputs": [],
   "source": [
    "import numpy as np"
   ]
  },
  {
   "cell_type": "code",
   "execution_count": 11,
   "metadata": {},
   "outputs": [
    {
     "name": "stdout",
     "output_type": "stream",
     "text": [
      "0.8256221336382272\n"
     ]
    }
   ],
   "source": [
    "# 直接按照公式计算\n",
    "from scipy import special\n",
    "answer = 0\n",
    "p = 0.6\n",
    "N = 11 # A（获胜方）每局要赢多少个球\n",
    "for x in np.arange(N): # x为A的对手赢的球\n",
    "    answer += special.comb(N + x - 1, x) * ((1-p) ** x) * (p ** N)\n",
    "print(answer)"
   ]
  },
  {
   "cell_type": "code",
   "execution_count": 12,
   "metadata": {},
   "outputs": [
    {
     "name": "stdout",
     "output_type": "stream",
     "text": [
      "0.8365\n"
     ]
    }
   ],
   "source": [
    "# 暴力模拟\n",
    "p = 0.6 # A和B打比赛，表示A每次赢的概率是0.6，A输（B赢）的概率是0.4\n",
    "N = 11 # 表示总共有11个球，即某个人先赢11个球即获胜\n",
    "a, b, c = 0, 0, 0 # a，b 分别表示每次比赛A，B 赢的球数，C表示A最终赢的次数\n",
    "t, T = 0, 1000000 # T表示总共做的实验的次数\n",
    "while t < T:\n",
    "    a = b = 0\n",
    "    while (a <= n) and (b <= n):\n",
    "        if np.random.uniform() < p:\n",
    "            a += 1\n",
    "        else:\n",
    "            b += 1\n",
    "    if a > b:\n",
    "        c += 1\n",
    "    t += 1\n",
    "print(float(c)/float(T))  "
   ]
  },
  {
   "cell_type": "code",
   "execution_count": 26,
   "metadata": {},
   "outputs": [
    {
     "name": "stdout",
     "output_type": "stream",
     "text": [
      "0.8364351998415863\n"
     ]
    }
   ],
   "source": [
    "# 让两个球的情况\n",
    "answer = 0\n",
    "p = 0.6 # A每次赢球的概率\n",
    "N = 11\n",
    "for x in range(N-1): # x为A的对手赢的球, 11:9， 11:8，......11:0\n",
    "    answer += special.comb(N + x - 1, x) * ((1-p) ** x) * (p ** N)\n",
    "p10_tie = special.comb(2*(N - 1), N-1) * (((1-p)* p) ** (N-1)) # 10:10的概率\n",
    "t = 0\n",
    "for n in np.arange(100):\n",
    "    t += (2*p*(1-p))**n * p * p # 你赢一球，我赢一球的概率(2*p*(1-p))，假设这样交错了0——100次，最后两次肯定是A赢。比如11:10，11:11，11:12。。。\n",
    "\n",
    "answer += p10_tie * t\n",
    "print(answer)\n"
   ]
  },
  {
   "cell_type": "code",
   "execution_count": null,
   "metadata": {},
   "outputs": [],
   "source": []
  },
  {
   "cell_type": "code",
   "execution_count": null,
   "metadata": {},
   "outputs": [],
   "source": []
  },
  {
   "cell_type": "code",
   "execution_count": null,
   "metadata": {},
   "outputs": [],
   "source": []
  },
  {
   "cell_type": "code",
   "execution_count": null,
   "metadata": {},
   "outputs": [],
   "source": []
  },
  {
   "cell_type": "code",
   "execution_count": null,
   "metadata": {},
   "outputs": [],
   "source": []
  },
  {
   "cell_type": "code",
   "execution_count": null,
   "metadata": {},
   "outputs": [],
   "source": []
  },
  {
   "cell_type": "code",
   "execution_count": null,
   "metadata": {},
   "outputs": [],
   "source": []
  },
  {
   "cell_type": "code",
   "execution_count": null,
   "metadata": {},
   "outputs": [],
   "source": []
  },
  {
   "cell_type": "code",
   "execution_count": null,
   "metadata": {},
   "outputs": [],
   "source": []
  },
  {
   "cell_type": "code",
   "execution_count": null,
   "metadata": {},
   "outputs": [],
   "source": []
  },
  {
   "cell_type": "code",
   "execution_count": null,
   "metadata": {},
   "outputs": [],
   "source": []
  },
  {
   "cell_type": "code",
   "execution_count": null,
   "metadata": {},
   "outputs": [],
   "source": []
  },
  {
   "cell_type": "code",
   "execution_count": null,
   "metadata": {},
   "outputs": [],
   "source": []
  },
  {
   "cell_type": "code",
   "execution_count": null,
   "metadata": {},
   "outputs": [],
   "source": []
  },
  {
   "cell_type": "code",
   "execution_count": null,
   "metadata": {},
   "outputs": [],
   "source": []
  },
  {
   "cell_type": "code",
   "execution_count": null,
   "metadata": {},
   "outputs": [],
   "source": []
  },
  {
   "cell_type": "code",
   "execution_count": null,
   "metadata": {},
   "outputs": [],
   "source": []
  }
 ],
 "metadata": {
  "kernelspec": {
   "display_name": "Python (tensorflow)",
   "language": "python",
   "name": "tensorflow"
  },
  "language_info": {
   "codemirror_mode": {
    "name": "ipython",
    "version": 3
   },
   "file_extension": ".py",
   "mimetype": "text/x-python",
   "name": "python",
   "nbconvert_exporter": "python",
   "pygments_lexer": "ipython3",
   "version": "3.6.5"
  }
 },
 "nbformat": 4,
 "nbformat_minor": 2
}
