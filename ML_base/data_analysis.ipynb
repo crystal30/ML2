{
 "cells": [
  {
   "cell_type": "code",
   "execution_count": 27,
   "metadata": {},
   "outputs": [],
   "source": [
    "import numpy as np\n",
    "import matplotlib.pyplot as plt\n",
    "from scipy.fftpack import fft,ifft"
   ]
  },
  {
   "cell_type": "code",
   "execution_count": null,
   "metadata": {},
   "outputs": [],
   "source": []
  },
  {
   "cell_type": "code",
   "execution_count": null,
   "metadata": {},
   "outputs": [],
   "source": []
  },
  {
   "cell_type": "code",
   "execution_count": 1,
   "metadata": {},
   "outputs": [],
   "source": [
    "# 偏度，峰度"
   ]
  },
  {
   "cell_type": "code",
   "execution_count": 2,
   "metadata": {},
   "outputs": [],
   "source": [
    "# Gamma函数\n",
    "from scipy.special import gamma, factorial"
   ]
  },
  {
   "cell_type": "code",
   "execution_count": 3,
   "metadata": {},
   "outputs": [],
   "source": [
    "# pearson相关系数：cov(X,y)/sqrt(var(X)*Var(Y))"
   ]
  },
  {
   "cell_type": "code",
   "execution_count": 29,
   "metadata": {},
   "outputs": [
    {
     "data": {
      "image/png": "[encoded data removed]",
      "text/plain": [
       "<Figure size 432x288 with 1 Axes>"
      ]
     },
     "metadata": {},
     "output_type": "display_data"
    }
   ],
   "source": [
    "# 傅立叶变换\n",
    "\n",
    "#三角波\n",
    "def triangle_wave(x, c, h):\n",
    "    \"\"\"\n",
    "    x: 横坐标\n",
    "    c: 周期\n",
    "    h: 最大振幅\n",
    "    \"\"\"\n",
    "    res_x = x % c\n",
    "    if res_x == 0: \n",
    "        y = 0\n",
    "    elif res_x <= c / 2: # 上升段\n",
    "        y = ((2 * h) / c ) * res_x\n",
    "    else:  # 下降段\n",
    "        y = ((-2 * h) / c ) * res_x + 2 * h\n",
    "    return y\n",
    "\n",
    "x=np.linspace(0,10,200)\n",
    "\n",
    "#这是一种画三角波的方法\n",
    "# y1=np.array([triangle_wave(t, 2, 3) for t in x])\n",
    "# plt.plot(x,y1)\n",
    "# plt.show()\n",
    "\n",
    "\n",
    "# # fromfunc 将计算单个值的函数转换为一个能对数组中每个元素进行计算的func函数\n",
    "# fromfunc(func,nin,nout) nin是func输入的参数,nout是func返回值的个数\n",
    "# triangle_ufunc1=np.frompyfunc(triangle_wave,3,1)\n",
    "# y2=triangle_ufunc1(x, 2, 3)\n",
    "# y2=y2.astype(np.float) #将其类型从object转换为float\n",
    "# pl.plot(x,y2)\n",
    "# plt.show()\n",
    "\n",
    "# # vectorize功能同fromfunc\n",
    "triangle_ufunc2=np.vectorize(triangle_wave,otypes=[np.float])\n",
    "y3=triangle_ufunc2(x, 2, 3)\n",
    "plt.plot(x,y3)\n",
    "plt.show()\n"
   ]
  },
  {
   "cell_type": "code",
   "execution_count": 35,
   "metadata": {},
   "outputs": [
    {
     "name": "stdout",
     "output_type": "stream",
     "text": [
      "[ 2.98492462e+02-0.00000000e+00j -1.55904490e+00-2.44914344e-02j\n",
      " -1.74263503e+00-5.47645122e-02j -2.19995790e+00-1.03747381e-01j\n",
      " -3.68731500e+00-2.31986196e-01j -1.21694200e+02-9.57754126e+00j\n",
      "  2.45415761e+00+2.31986196e-01j  9.39732021e-01+1.03747381e-01j\n",
      "  4.33505752e-01+5.47645122e-02j  1.72085787e-01+2.44914344e-02j\n",
      "  2.14629316e-15+1.12748476e-15j -1.40329592e-01-2.44914344e-02j\n",
      " -2.87085626e-01-5.47645122e-02j -5.00977153e-01-1.03747381e-01j\n",
      " -1.03784658e+00-2.31986196e-01j -1.30776800e+01-3.13967319e+00j\n",
      "  9.03526580e-01+2.31986196e-01j  3.79236553e-01+1.03747381e-01j\n",
      "  1.88500687e-01+5.47645122e-02j  7.96106517e-02+2.44914344e-02j\n",
      " -9.13201001e-15+6.09821282e-15j -7.15336261e-02-2.44914344e-02j\n",
      " -1.52114284e-01-5.47645122e-02j -2.74559477e-01-1.03747381e-01j\n",
      " -5.85930248e-01-2.31986196e-01j -4.39328678e+00-1.81975897e+00j\n",
      "  5.36088469e-01+2.31986196e-01j  2.29774979e-01+1.03747381e-01j\n",
      "  1.16380512e-01+5.47645122e-02j  4.99932376e-02+2.44914344e-02j\n",
      " -8.47623094e-16+4.89815853e-15j -4.62562702e-02-2.44914344e-02j\n",
      " -9.96162778e-02-5.47645122e-02j -1.81888521e-01-1.03747381e-01j\n",
      " -3.92267235e-01-2.31986196e-01j -2.00724115e+00-1.23003896e+00j\n",
      "  3.65551752e-01+2.31986196e-01j  1.57940293e-01+1.03747381e-01j\n",
      "  8.05835325e-02+5.47645122e-02j  3.48477863e-02+2.44914344e-02j\n",
      "  2.22044605e-16-3.88578059e-15j -3.26195280e-02-2.44914344e-02j\n",
      " -7.06019837e-02-5.47645122e-02j -1.29497900e-01-1.03747381e-01j\n",
      " -2.80423139e-01-2.31986196e-01j -1.03333320e+00-8.82549924e-01j\n",
      "  2.63136688e-01+2.31986196e-01j  1.14016883e-01+1.03747381e-01j\n",
      "  5.83182821e-02+5.47645122e-02j  2.52731997e-02+2.44914344e-02j\n",
      "  0.00000000e+00-0.00000000e+00j -2.37338511e-02-2.44914344e-02j\n",
      " -5.14273000e-02-5.47645122e-02j -9.44028531e-02-1.03747381e-01j\n",
      " -2.04523344e-01-2.31986196e-01j -5.49839561e-01-6.43779411e-01j\n",
      "  1.91915672e-01+2.31986196e-01j  8.31173253e-02+1.03747381e-01j\n",
      "  4.24797100e-02+5.47645122e-02j  1.83886891e-02+2.44914344e-02j\n",
      "  2.22044605e-16+3.88578059e-15j -1.72128684e-02-2.44914344e-02j\n",
      " -3.72179240e-02-5.47645122e-02j -6.81492914e-02-1.03747381e-01j\n",
      " -1.47222917e-01-2.31986196e-01j -2.83058899e-01-4.61910142e-01j\n",
      "  1.37196254e-01+2.31986196e-01j  5.91764613e-02+1.03747381e-01j\n",
      "  3.01070453e-02+5.47645122e-02j  1.29675470e-02+2.44914344e-02j\n",
      "  8.47623094e-16+4.57266434e-16j -1.19982299e-02-2.44914344e-02j\n",
      " -2.57702233e-02-5.47645122e-02j -4.68437387e-02-1.03747381e-01j\n",
      " -1.00389392e-01-2.31986196e-01j -1.29326288e-01-3.12221278e-01j\n",
      "  9.18498328e-02+2.31986196e-01j  3.92028684e-02+1.03747381e-01j\n",
      "  1.97164376e-02+5.47645122e-02j  8.38529222e-03+2.44914344e-02j\n",
      " -5.07884471e-15+3.43367756e-15j -7.53454903e-03-2.44914344e-02j\n",
      " -1.59105616e-02-5.47645122e-02j -2.83820717e-02-1.03747381e-01j\n",
      " -5.95639314e-02-2.31986196e-01j -4.34455859e-02-1.80963889e-01j\n",
      "  5.18550585e-02+2.31986196e-01j  2.14850497e-02+1.03747381e-01j\n",
      "  1.04468894e-02+5.47645122e-02j  4.27443956e-03+2.44914344e-02j\n",
      "  1.85050973e-15-3.09136273e-15j -3.48564729e-03-2.44914344e-02j\n",
      " -6.91836678e-03-5.47645122e-02j -1.14538175e-02-1.03747381e-01j\n",
      " -2.19291520e-02-2.31986196e-01j -4.66881306e-03-5.93228946e-02j\n",
      "  1.45953343e-02+2.31986196e-01j  4.89260229e-03+1.03747381e-01j\n",
      "  1.72104413e-03+5.47645122e-02j  3.84742196e-04+2.44914344e-02j\n",
      "  0.00000000e+00-0.00000000e+00j  3.84742196e-04-2.44914344e-02j\n",
      "  1.72104413e-03-5.47645122e-02j  4.89260229e-03-1.03747381e-01j\n",
      "  1.45953343e-02-2.31986196e-01j -4.66881306e-03+5.93228946e-02j\n",
      " -2.19291520e-02+2.31986196e-01j -1.14538175e-02+1.03747381e-01j\n",
      " -6.91836678e-03+5.47645122e-02j -3.48564729e-03+2.44914344e-02j\n",
      "  1.85050973e-15+3.09136273e-15j  4.27443956e-03-2.44914344e-02j\n",
      "  1.04468894e-02-5.47645122e-02j  2.14850497e-02-1.03747381e-01j\n",
      "  5.18550585e-02-2.31986196e-01j -4.34455859e-02+1.80963889e-01j\n",
      " -5.95639314e-02+2.31986196e-01j -2.83820717e-02+1.03747381e-01j\n",
      " -1.59105616e-02+5.47645122e-02j -7.53454903e-03+2.44914344e-02j\n",
      " -5.07884471e-15-3.43367756e-15j  8.38529222e-03-2.44914344e-02j\n",
      "  1.97164376e-02-5.47645122e-02j  3.92028684e-02-1.03747381e-01j\n",
      "  9.18498328e-02-2.31986196e-01j -1.29326288e-01+3.12221278e-01j\n",
      " -1.00389392e-01+2.31986196e-01j -4.68437387e-02+1.03747381e-01j\n",
      " -2.57702233e-02+5.47645122e-02j -1.19982299e-02+2.44914344e-02j\n",
      "  8.47623094e-16-4.57266434e-16j  1.29675470e-02-2.44914344e-02j\n",
      "  3.01070453e-02-5.47645122e-02j  5.91764613e-02-1.03747381e-01j\n",
      "  1.37196254e-01-2.31986196e-01j -2.83058899e-01+4.61910142e-01j\n",
      " -1.47222917e-01+2.31986196e-01j -6.81492914e-02+1.03747381e-01j\n",
      " -3.72179240e-02+5.47645122e-02j -1.72128684e-02+2.44914344e-02j\n",
      "  2.22044605e-16-3.88578059e-15j  1.83886891e-02-2.44914344e-02j\n",
      "  4.24797100e-02-5.47645122e-02j  8.31173253e-02-1.03747381e-01j\n",
      "  1.91915672e-01-2.31986196e-01j -5.49839561e-01+6.43779411e-01j\n",
      " -2.04523344e-01+2.31986196e-01j -9.44028531e-02+1.03747381e-01j\n",
      " -5.14273000e-02+5.47645122e-02j -2.37338511e-02+2.44914344e-02j\n",
      "  0.00000000e+00+0.00000000e+00j  2.52731997e-02-2.44914344e-02j\n",
      "  5.83182821e-02-5.47645122e-02j  1.14016883e-01-1.03747381e-01j\n",
      "  2.63136688e-01-2.31986196e-01j -1.03333320e+00+8.82549924e-01j\n",
      " -2.80423139e-01+2.31986196e-01j -1.29497900e-01+1.03747381e-01j\n",
      " -7.06019837e-02+5.47645122e-02j -3.26195280e-02+2.44914344e-02j\n",
      "  2.22044605e-16+3.88578059e-15j  3.48477863e-02-2.44914344e-02j\n",
      "  8.05835325e-02-5.47645122e-02j  1.57940293e-01-1.03747381e-01j\n",
      "  3.65551752e-01-2.31986196e-01j -2.00724115e+00+1.23003896e+00j\n",
      " -3.92267235e-01+2.31986196e-01j -1.81888521e-01+1.03747381e-01j\n",
      " -9.96162778e-02+5.47645122e-02j -4.62562702e-02+2.44914344e-02j\n",
      " -8.47623094e-16-4.89815853e-15j  4.99932376e-02-2.44914344e-02j\n",
      "  1.16380512e-01-5.47645122e-02j  2.29774979e-01-1.03747381e-01j\n",
      "  5.36088469e-01-2.31986196e-01j -4.39328678e+00+1.81975897e+00j\n",
      " -5.85930248e-01+2.31986196e-01j -2.74559477e-01+1.03747381e-01j\n",
      " -1.52114284e-01+5.47645122e-02j -7.15336261e-02+2.44914344e-02j\n",
      " -9.13201001e-15-6.09821282e-15j  7.96106517e-02-2.44914344e-02j\n",
      "  1.88500687e-01-5.47645122e-02j  3.79236553e-01-1.03747381e-01j\n",
      "  9.03526580e-01-2.31986196e-01j -1.30776800e+01+3.13967319e+00j\n",
      " -1.03784658e+00+2.31986196e-01j -5.00977153e-01+1.03747381e-01j\n",
      " -2.87085626e-01+5.47645122e-02j -1.40329592e-01+2.44914344e-02j\n",
      "  2.14629316e-15-1.12748476e-15j  1.72085787e-01-2.44914344e-02j\n",
      "  4.33505752e-01-5.47645122e-02j  9.39732021e-01-1.03747381e-01j\n",
      "  2.45415761e+00-2.31986196e-01j -1.21694200e+02+9.57754126e+00j\n",
      " -3.68731500e+00+2.31986196e-01j -2.19995790e+00+1.03747381e-01j\n",
      " -1.74263503e+00+5.47645122e-02j -1.55904490e+00+2.44914344e-02j]\n"
     ]
    }
   ],
   "source": [
    "fft_y3 = fft(y3)\n",
    "print(fft_y3)"
   ]
  },
  {
   "cell_type": "code",
   "execution_count": null,
   "metadata": {},
   "outputs": [],
   "source": []
  },
  {
   "cell_type": "code",
   "execution_count": null,
   "metadata": {},
   "outputs": [],
   "source": []
  },
  {
   "cell_type": "code",
   "execution_count": null,
   "metadata": {},
   "outputs": [],
   "source": []
  },
  {
   "cell_type": "code",
   "execution_count": null,
   "metadata": {},
   "outputs": [],
   "source": []
  },
  {
   "cell_type": "code",
   "execution_count": null,
   "metadata": {},
   "outputs": [],
   "source": []
  },
  {
   "cell_type": "code",
   "execution_count": null,
   "metadata": {},
   "outputs": [],
   "source": []
  },
  {
   "cell_type": "code",
   "execution_count": null,
   "metadata": {},
   "outputs": [],
   "source": []
  },
  {
   "cell_type": "code",
   "execution_count": null,
   "metadata": {},
   "outputs": [],
   "source": [
    "fft(y3)"
   ]
  },
  {
   "cell_type": "code",
   "execution_count": null,
   "metadata": {},
   "outputs": [],
   "source": []
  },
  {
   "cell_type": "code",
   "execution_count": null,
   "metadata": {},
   "outputs": [],
   "source": []
  },
  {
   "cell_type": "code",
   "execution_count": null,
   "metadata": {},
   "outputs": [],
   "source": []
  },
  {
   "cell_type": "code",
   "execution_count": null,
   "metadata": {},
   "outputs": [],
   "source": []
  },
  {
   "cell_type": "code",
   "execution_count": null,
   "metadata": {},
   "outputs": [],
   "source": []
  },
  {
   "cell_type": "code",
   "execution_count": null,
   "metadata": {},
   "outputs": [],
   "source": []
  },
  {
   "cell_type": "code",
   "execution_count": null,
   "metadata": {},
   "outputs": [],
   "source": []
  },
  {
   "cell_type": "code",
   "execution_count": null,
   "metadata": {},
   "outputs": [],
   "source": []
  },
  {
   "cell_type": "code",
   "execution_count": null,
   "metadata": {},
   "outputs": [],
   "source": []
  },
  {
   "cell_type": "code",
   "execution_count": null,
   "metadata": {},
   "outputs": [],
   "source": []
  },
  {
   "cell_type": "code",
   "execution_count": null,
   "metadata": {},
   "outputs": [],
   "source": []
  },
  {
   "cell_type": "code",
   "execution_count": null,
   "metadata": {},
   "outputs": [],
   "source": []
  },
  {
   "cell_type": "code",
   "execution_count": null,
   "metadata": {},
   "outputs": [],
   "source": []
  },
  {
   "cell_type": "code",
   "execution_count": null,
   "metadata": {},
   "outputs": [],
   "source": []
  },
  {
   "cell_type": "code",
   "execution_count": null,
   "metadata": {},
   "outputs": [],
   "source": []
  },
  {
   "cell_type": "code",
   "execution_count": null,
   "metadata": {},
   "outputs": [],
   "source": []
  },
  {
   "cell_type": "code",
   "execution_count": null,
   "metadata": {},
   "outputs": [],
   "source": []
  },
  {
   "cell_type": "code",
   "execution_count": null,
   "metadata": {},
   "outputs": [],
   "source": []
  },
  {
   "cell_type": "code",
   "execution_count": null,
   "metadata": {},
   "outputs": [],
   "source": [
    "plt.subplot(221)\n",
    "plt.plot(x[0:50],y[0:50])   \n",
    "plt.title('Original wave')"
   ]
  }
 ],
 "metadata": {
  "kernelspec": {
   "display_name": "Python (tensorflow)",
   "language": "python",
   "name": "tensorflow"
  },
  "language_info": {
   "codemirror_mode": {
    "name": "ipython",
    "version": 3
   },
   "file_extension": ".py",
   "mimetype": "text/x-python",
   "name": "python",
   "nbconvert_exporter": "python",
   "pygments_lexer": "ipython3",
   "version": "3.6.5"
  }
 },
 "nbformat": 4,
 "nbformat_minor": 2
}
