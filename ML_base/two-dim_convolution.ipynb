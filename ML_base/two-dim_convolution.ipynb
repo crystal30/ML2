{
 "cells": [
  {
   "cell_type": "code",
   "execution_count": 7,
   "metadata": {},
   "outputs": [
    {
     "name": "stdout",
     "output_type": "stream",
     "text": [
      "梯度检测\n"
     ]
    }
   ],
   "source": [
    "import os\n",
    "\n",
    "import pandas as pd\n",
    "import numpy as np\n",
    "from PIL import Image\n",
    "\n",
    "\n",
    "def convolve(image, weight):\n",
    "    height, width = image.shape\n",
    "    h, w = weight.shape\n",
    "    height_new = height - h + 1\n",
    "    width_new = width - w + 1\n",
    "    image_new = np.zeros((height_new, width_new), dtype=np.float)\n",
    "    \n",
    "    for i in range(height_new):\n",
    "        for j in range(width_new):\n",
    "            image_new[i, j] = np.sum(image[i:i+h, j:j+w] * weight)\n",
    "    \n",
    "    image_new = image_new.clip(0, 255)\n",
    "    image_new = np.rint(image_new).astype('uint8')\n",
    "    return image_new\n",
    "\n",
    "palace = Image.open(\"palace.jpeg\", \"r\")\n",
    "output_path = \"./convolve2/\"\n",
    "if not os.path.exists(output_path):\n",
    "    os.mkdir(output_path)\n",
    "\n",
    "palace_array = np.array(palace)\n",
    "\n",
    "# 设计不同的算子\n",
    "soble_x = np.array(([-1, 0, 1], [-2, 0, 2], [-1, 0, 1]))\n",
    "soble_y = np.array(([-1, -2, -1], [0, 0, 0], [1, 2, 1]))\n",
    "soble = np.array(([-1, -1, 0], [-1, 0, 1], [0, 1, 1]))\n",
    "\n",
    "prewitt_x = np.array(([-1, 0, 1], [-1, 0, 1], [-1, 0, 1]))\n",
    "prewitt_y = np.array(([-1, -1, -1], [0, 0, 0], [1, 1, 1]))\n",
    "prewitt = np.array(([-2, -1, 0], [-1, 0, 1], [0, 1, 2]))\n",
    "\n",
    "laplacian = np.array(([0, -1, 0], [-1, 4, -1], [0, -1, 0]))\n",
    "laplacian2 = np.array(([-1, -1, -1], [-1, 8, -1], [-1, -1, -1]))\n",
    "\n",
    "weight_list = ('soble_x', 'soble_y', 'soble', 'prewitt_x', 'prewitt_y', 'prewitt', 'laplacian', 'laplacian2')\n",
    "print('梯度检测')\n",
    "for weight in weight_list:\n",
    "    R = convolve(palace_array[:,:,0], eval(weight))\n",
    "    G = convolve(palace_array[:,:,1], eval(weight))\n",
    "    B = convolve(palace_array[:,:,2], eval(weight))\n",
    "    \n",
    "#     I = 255 - np.stack((R, G, B), 2)  # 这里为什么要255减去呢。不减会是什么效果呢\n",
    "    I = np.stack((R, G, B), 2)\n",
    "    Image.fromarray(I).save(output_path + weight + 'no_flip.png')\n",
    "    \n",
    "    \n",
    "\n",
    "\n",
    "    "
   ]
  },
  {
   "cell_type": "code",
   "execution_count": null,
   "metadata": {},
   "outputs": [],
   "source": []
  }
 ],
 "metadata": {
  "kernelspec": {
   "display_name": "Python (tensorflow)",
   "language": "python",
   "name": "tensorflow"
  },
  "language_info": {
   "codemirror_mode": {
    "name": "ipython",
    "version": 3
   },
   "file_extension": ".py",
   "mimetype": "text/x-python",
   "name": "python",
   "nbconvert_exporter": "python",
   "pygments_lexer": "ipython3",
   "version": "3.6.5"
  }
 },
 "nbformat": 4,
 "nbformat_minor": 2
}
